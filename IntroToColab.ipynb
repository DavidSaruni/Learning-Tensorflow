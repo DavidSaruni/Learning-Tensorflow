{
  "nbformat": 4,
  "nbformat_minor": 0,
  "metadata": {
    "colab": {
      "name": "IntroToColab.ipynb",
      "provenance": [],
      "authorship_tag": "ABX9TyOrsvDHr+qvaFstLiVfUq6J",
      "include_colab_link": true
    },
    "kernelspec": {
      "name": "python3",
      "display_name": "Python 3"
    },
    "language_info": {
      "name": "python"
    }
  },
  "cells": [
    {
      "cell_type": "markdown",
      "metadata": {
        "id": "view-in-github",
        "colab_type": "text"
      },
      "source": [
        "<a href=\"https://colab.research.google.com/github/DavidSaruni/Learning-Tensorflow/blob/main/IntroToColab.ipynb\" target=\"_parent\"><img src=\"https://colab.research.google.com/assets/colab-badge.svg\" alt=\"Open In Colab\"/></a>"
      ]
    },
    {
      "cell_type": "code",
      "execution_count": 1,
      "metadata": {
        "colab": {
          "base_uri": "https://localhost:8080/"
        },
        "id": "IWQiEYdrExkK",
        "outputId": "da047863-ff88-4482-951e-569d38fa368f"
      },
      "outputs": [
        {
          "output_type": "stream",
          "name": "stdout",
          "text": [
            "Welcome To TensorFlow BootCammp\n"
          ]
        }
      ],
      "source": [
        "print(\"Welcome To TensorFlow BootCammp\")"
      ]
    },
    {
      "cell_type": "markdown",
      "source": [
        "# Bootamp\n",
        "## Tensorflow Libraries\n",
        "\n",
        "1. Pandas\n",
        "1. Numpy\n",
        "1. Scilearn\n",
        "1. etc\n",
        "\n",
        "\n",
        "# Machine Learning Algorithms\n",
        "*   Supervised Learning\n",
        "*   Unsupervised Learning\n",
        "\n"
      ],
      "metadata": {
        "id": "PNFJKrNMFGHi"
      }
    }
  ]
}